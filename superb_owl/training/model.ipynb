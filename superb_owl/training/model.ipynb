{
 "cells": [
  {
   "cell_type": "markdown",
   "metadata": {},
   "source": [
    "# DO NOT 'RUN ALL CELLS'"
   ]
  },
  {
   "cell_type": "code",
   "execution_count": 1,
   "metadata": {},
   "outputs": [],
   "source": [
    "from PIL import Image\n",
    "import numpy as np\n",
    "import tensorflow as tf\n",
    "import os.path\n",
    "import glob\n",
    "\n",
    "import math\n",
    "import h5py\n",
    "import matplotlib.pyplot as plt\n",
    "import scipy\n",
    "from scipy import ndimage\n",
    "from tensorflow.python.framework import ops\n",
    "from cnn_utils import *\n",
    "\n",
    "%matplotlib inline\n",
    "np.random.seed(1)"
   ]
  },
  {
   "cell_type": "code",
   "execution_count": 2,
   "metadata": {},
   "outputs": [],
   "source": [
    "folder = [\"training\", \"test\"]"
   ]
  },
  {
   "cell_type": "code",
   "execution_count": 3,
   "metadata": {},
   "outputs": [],
   "source": [
    "#resize all images in a folder to 64 by 64\n",
    "def image_resize(folder):\n",
    "    images = glob.glob(\"img/\" + folder + \"/*.jpg\")\n",
    "    for image in images:\n",
    "        im_path = os.path.abspath(image)\n",
    "        im = Image.open(im_path)\n",
    "        im = im.resize((64, 64), Image.ANTIALIAS)\n",
    "        im.save(os.path.splitext(im_path)[0] + '-small.jpg')\n",
    "\n",
    "## only need to run this if starting new project\n",
    "# for f in folder:\n",
    "#     image_resize(f)"
   ]
  },
  {
   "cell_type": "code",
   "execution_count": 4,
   "metadata": {},
   "outputs": [],
   "source": [
    "# convert image to tensor\n",
    "def convert_to_tensor(folder):\n",
    "    x = np.empty((0, 64, 64, 3))\n",
    "    y = np.empty((0, 2))\n",
    "    directory_name = \"img/\" + folder\n",
    "    for filename in os.listdir(directory_name):\n",
    "        if filename.endswith(\"-small.jpg\"):\n",
    "            img = Image.open(os.path.join(directory_name, filename)).convert('RGB')\n",
    "            x = np.append(x, np.array(img).reshape((1, 64, 64, 3)), axis = 0)\n",
    "            if filename.startswith('owl'):\n",
    "                y = np.append(y, np.array([1, 0]).reshape((1, 2)), axis = 0)\n",
    "#                 print(filename)\n",
    "#                 print(y[-1])\n",
    "            else: \n",
    "                y = np.append(y, np.array([0, 1]).reshape((1, 2)), axis = 0)\n",
    "#                 print(filename)\n",
    "#                 print(y[-1])\n",
    "    return [x, y]\n",
    "    \n",
    "xtrain, ytrain = convert_to_tensor(folder[0])\n",
    "xtest, ytest = convert_to_tensor(folder[1])"
   ]
  },
  {
   "cell_type": "code",
   "execution_count": 5,
   "metadata": {},
   "outputs": [
    {
     "name": "stdout",
     "output_type": "stream",
     "text": [
      "(30, 64, 64, 3)\n",
      "(30, 2)\n",
      "(10, 64, 64, 3)\n",
      "(10, 2)\n"
     ]
    }
   ],
   "source": [
    "print(xtrain.shape)\n",
    "print(ytrain.shape)\n",
    "print(xtest.shape)\n",
    "print(ytest.shape)"
   ]
  },
  {
   "cell_type": "code",
   "execution_count": 6,
   "metadata": {},
   "outputs": [],
   "source": [
    "def create_placeholders(n_H0, n_W0, n_C0, n_y):\n",
    "    #Creates the placeholders for the tensorflow session.\n",
    "    #n_H0 -- scalar, height of an input image\n",
    "    #n_W0 -- scalar, width of an input image\n",
    "    #n_C0 -- scalar, number of channels of the input\n",
    "    #n_y -- scalar, number of classes\n",
    "        \n",
    "    #Returns:\n",
    "    #X -- placeholder for the data input\n",
    "    #Y -- placeholder for the input labels\n",
    "    \n",
    "    X = tf.placeholder(dtype = \"float\", shape = (None,n_H0,n_W0,n_C0), name='input')\n",
    "    Y = tf.placeholder(dtype = \"float\", shape = (None,n_y))\n",
    "    \n",
    "    return X, Y"
   ]
  },
  {
   "cell_type": "code",
   "execution_count": 8,
   "metadata": {},
   "outputs": [],
   "source": [
    "def initialize_parameters():\n",
    "    \n",
    "    #Initializes weight parameters to build a neural network with tensorflow. The shapes are:\n",
    "    #                   W1 : [4, 4, 3, 8]\n",
    "    #                   W2 : [2, 2, 8, 16]\n",
    "    #Returns:\n",
    "    #parameters -- a dictionary of tensors containing W1, W2\n",
    "    \n",
    "    tf.set_random_seed(1)                           \n",
    "        \n",
    "    W1 = tf.get_variable(\"W1\", [4,4,3,8],initializer = tf.contrib.layers.xavier_initializer(seed = 0))\n",
    "    W2 = tf.get_variable(\"W2\", [2,2,8,16],initializer = tf.contrib.layers.xavier_initializer(seed = 0))\n",
    "\n",
    "    parameters = {\"W1\": W1, \"W2\": W2}\n",
    "    \n",
    "    return parameters"
   ]
  },
  {
   "cell_type": "code",
   "execution_count": 13,
   "metadata": {},
   "outputs": [],
   "source": [
    "def forward_propagation(X, parameters):\n",
    "\n",
    "    #Implements the forward propagation for the model:\n",
    "    #CONV2D -> RELU -> MAXPOOL -> CONV2D -> RELU -> MAXPOOL -> FLATTEN -> FULLYCONNECTED\n",
    "    \n",
    "    #X -- input dataset placeholder\n",
    "    #parameters -- python dictionary containing parameters \"W1\", \"W2\"\n",
    "\n",
    "    #Returns:\n",
    "    #Z3 -- the output of the last LINEAR unit\n",
    "    \n",
    "    # Retrieve the parameters from the dictionary \"parameters\" \n",
    "    W1 = parameters['W1']\n",
    "    W2 = parameters['W2']\n",
    "    \n",
    "    Z1 = tf.nn.conv2d(X,W1, strides = [1,1,1,1], padding = 'SAME')\n",
    "\n",
    "    A1 = tf.nn.relu(Z1)\n",
    "    \n",
    "    P1 = tf.nn.max_pool(A1, ksize = [1,8,8,1], strides = [1,8,8,1], padding = 'SAME')\n",
    "\n",
    "    Z2 = tf.nn.conv2d(P1,W2, strides = [1,1,1,1], padding = 'SAME')\n",
    "\n",
    "    A2 = tf.nn.relu(Z2)\n",
    "\n",
    "    P2 = tf.nn.max_pool(A2, ksize = [1,4,4,1], strides = [1,4,4,1], padding = 'SAME')\n",
    "\n",
    "    P2 = tf.contrib.layers.flatten(P2)\n",
    "    \n",
    "    Z3 = tf.contrib.layers.fully_connected(P2, 2, activation_fn=None)\n",
    "\n",
    "    return Z3"
   ]
  },
  {
   "cell_type": "code",
   "execution_count": 10,
   "metadata": {},
   "outputs": [],
   "source": [
    "def compute_cost(Z3, Y):\n",
    "\n",
    "    #Computes the cost\n",
    "    \n",
    "    #Z3 -- output of forward propagation (output of the last LINEAR unit)\n",
    "    #Y -- real labels vector placeholder\n",
    "    \n",
    "    #Returns:\n",
    "    #cost - Tensor of the cost function\n",
    "\n",
    "    cost = tf.reduce_mean(tf.nn.softmax_cross_entropy_with_logits(logits = Z3, labels = Y),0)\n",
    "    \n",
    "    return cost"
   ]
  },
  {
   "cell_type": "code",
   "execution_count": 14,
   "metadata": {},
   "outputs": [],
   "source": [
    "def model(X_train, Y_train, X_test, Y_test, learning_rate=0.009,\n",
    "          num_epochs=30, minibatch_size=2, print_cost=True):\n",
    "\n",
    "    #Implements a three-layer ConvNet in Tensorflow:\n",
    "    #CONV2D -> RELU -> MAXPOOL -> CONV2D -> RELU -> MAXPOOL -> FLATTEN -> FULLYCONNECTED\n",
    "    \n",
    "    #X_train -- training set, of shape (None, 64, 64, 3)\n",
    "    #Y_train -- test set, of shape (None, n_y = 2)\n",
    "    #X_test -- training set, of shape (None, 64, 64, 3)\n",
    "    #Y_test -- test set, of shape (None, n_y = 2)\n",
    "    #learning_rate -- learning rate of the optimization\n",
    "    #num_epochs -- number of epochs of the optimization loop\n",
    "    #minibatch_size -- size of a minibatch\n",
    "    #print_cost -- True to print the cost every 100 epochs\n",
    "    \n",
    "    #train_accuracy -- real number, accuracy on the train set (X_train)\n",
    "    #test_accuracy -- real number, testing accuracy on the test set (X_test)\n",
    "    #parameters -- parameters learnt by the model. They can then be used to predict.\n",
    "    \n",
    "    # to be able to rerun the model without overwriting tf variables\n",
    "    ops.reset_default_graph()                         \n",
    "    # to keep results consistent (tensorflow seed)\n",
    "    tf.set_random_seed(1)                             \n",
    "    # to keep results consistent (numpy seed)\n",
    "    seed = 3                                          \n",
    "    \n",
    "    (m, n_H0, n_W0, n_C0) = X_train.shape             \n",
    "    n_y = Y_train.shape[1]                            \n",
    "    costs = []                                        \n",
    "    \n",
    "    X, Y = create_placeholders(n_H0, n_W0, n_C0, n_y)\n",
    "\n",
    "    parameters = initialize_parameters()\n",
    "    \n",
    "    Z3 = forward_propagation(X, parameters)\n",
    "    \n",
    "    cost = compute_cost(Z3, Y)\n",
    "    \n",
    "    optimizer = tf.train.AdamOptimizer(learning_rate=learning_rate).minimize(cost)\n",
    "    \n",
    "    init = tf.global_variables_initializer()\n",
    "     \n",
    "    with tf.Session() as sess:\n",
    "        \n",
    "        sess.run(init)\n",
    "        \n",
    "        for epoch in range(num_epochs):\n",
    "\n",
    "            minibatch_cost = 0.\n",
    "            num_minibatches = int(m / minibatch_size) \n",
    "            seed = seed + 1\n",
    "            minibatches = random_mini_batches(X_train, Y_train, minibatch_size, seed)\n",
    "\n",
    "            for minibatch in minibatches:\n",
    "\n",
    "                (minibatch_X, minibatch_Y) = minibatch\n",
    "                \n",
    "                _ , temp_cost = sess.run([optimizer, cost], feed_dict={X:minibatch_X, Y:minibatch_Y})\n",
    "                \n",
    "                minibatch_cost += temp_cost / num_minibatches\n",
    "                \n",
    "            if print_cost == True and epoch % 5 == 0:\n",
    "                print (\"Cost after epoch %i: %f\" % (epoch, minibatch_cost))\n",
    "            if print_cost == True and epoch % 1 == 0:\n",
    "                costs.append(minibatch_cost)\n",
    "        \n",
    "        plt.plot(np.squeeze(costs))\n",
    "        plt.ylabel('cost')\n",
    "        plt.xlabel('iterations (per tens)')\n",
    "        plt.title(\"Learning rate =\" + str(learning_rate))\n",
    "        plt.show()\n",
    "\n",
    "        # Calculate the correct predictions\n",
    "        predict_op = tf.argmax(Z3, 1, name='output')\n",
    "        correct_prediction = tf.equal(predict_op, tf.argmax(Y, 1))\n",
    "        \n",
    "        # Calculate accuracy on the test set\n",
    "        accuracy = tf.reduce_mean(tf.cast(correct_prediction, \"float\"))\n",
    "        train_accuracy = accuracy.eval({X: X_train, Y: Y_train})\n",
    "        test_accuracy = accuracy.eval({X: X_test, Y: Y_test})\n",
    "        print(\"Train Accuracy:\", train_accuracy)\n",
    "        print(\"Test Accuracy:\", test_accuracy)\n",
    "                \n",
    "        # check which test images identification result\n",
    "        predict_result = predict_op.eval({X: X_test, Y: Y_test})\n",
    "        print(\"result:\", predict_result)\n",
    "        \n",
    "        # Save model to ckpt so it can be used for prediction later\n",
    "        saver = tf.train.Saver()\n",
    "        save_path = saver.save(sess, \"./model.ckpt\")\n",
    "        print(\"Model saved in path: %s\" % save_path)\n",
    "        \n",
    "        return train_accuracy, test_accuracy, parameters"
   ]
  },
  {
   "cell_type": "code",
   "execution_count": 15,
   "metadata": {},
   "outputs": [
    {
     "name": "stdout",
     "output_type": "stream",
     "text": [
      "Cost after epoch 0: 29.798349\n",
      "Cost after epoch 5: 0.834895\n",
      "Cost after epoch 10: 0.139745\n",
      "Cost after epoch 15: 0.164987\n",
      "Cost after epoch 20: 0.218398\n",
      "Cost after epoch 25: 0.077484\n"
     ]
    },
    {
     "data": {
      "image/png": "[encoded data removed]",
      "text/plain": [
       "<Figure size 432x288 with 1 Axes>"
      ]
     },
     "metadata": {},
     "output_type": "display_data"
    },
    {
     "name": "stdout",
     "output_type": "stream",
     "text": [
      "Train Accuracy: 1.0\n",
      "Test Accuracy: 1.0\n",
      "result: [1 1 1 1 1 0 0 0 0 0]\n",
      "Model saved in path: ./model.ckpt\n",
      "[[0. 1.]\n",
      " [0. 1.]\n",
      " [0. 1.]\n",
      " [0. 1.]\n",
      " [0. 1.]\n",
      " [1. 0.]\n",
      " [1. 0.]\n",
      " [1. 0.]\n",
      " [1. 0.]\n",
      " [1. 0.]]\n"
     ]
    }
   ],
   "source": [
    "_, _, parameters = model(xtrain, ytrain, xtest, ytest)\n",
    "print(ytest)"
   ]
  },
  {
   "cell_type": "code",
   "execution_count": null,
   "metadata": {},
   "outputs": [],
   "source": [
    "#make sure all 30 input images are labeled correctly when imported - checked\n",
    "#view all images in test set that has been identified as owl - checked\n",
    "#add 10 images to training and 6 to test set - TBD\n",
    "#make prediction on new image with manual test - checked"
   ]
  }
 ],
 "metadata": {
  "kernelspec": {
   "display_name": "Python 3",
   "language": "python",
   "name": "python3"
  },
  "language_info": {
   "codemirror_mode": {
    "name": "ipython",
    "version": 3
   },
   "file_extension": ".py",
   "mimetype": "text/x-python",
   "name": "python",
   "nbconvert_exporter": "python",
   "pygments_lexer": "ipython3",
   "version": "3.6.5"
  }
 },
 "nbformat": 4,
 "nbformat_minor": 2
}
